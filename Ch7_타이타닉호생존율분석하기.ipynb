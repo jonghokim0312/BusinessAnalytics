{
  "nbformat": 4,
  "nbformat_minor": 0,
  "metadata": {
    "colab": {
      "name": "Ch7_타이타닉호생존율분석하기.ipynb",
      "private_outputs": true,
      "provenance": []
    },
    "kernelspec": {
      "name": "python3",
      "display_name": "Python 3"
    },
    "language_info": {
      "name": "python"
    }
  },
  "cells": [
    {
      "cell_type": "code",
      "metadata": {
        "id": "RJwVLznRslr7"
      },
      "source": [
        "import seaborn as sns\n",
        "import pandas as pd\n",
        "titanic = sns.load_dataset(\"titanic\")\n",
        "titanic.to_csv('titanic.csv', index = False)\n",
        "titanic.isnull().sum()"
      ],
      "execution_count": null,
      "outputs": []
    },
    {
      "cell_type": "code",
      "metadata": {
        "id": "1osA-mcCs_ng"
      },
      "source": [
        "titanic['age'] = titanic['age'].fillna(titanic['age'].median())\n",
        "titanic['embarked'].value_counts()"
      ],
      "execution_count": null,
      "outputs": []
    },
    {
      "cell_type": "code",
      "metadata": {
        "id": "FQEnyR1stRrY"
      },
      "source": [
        "titanic['embark_town'] = titanic['embark_town'].fillna('Southampton')\n",
        "titanic['deck'].value_counts()"
      ],
      "execution_count": null,
      "outputs": []
    },
    {
      "cell_type": "code",
      "metadata": {
        "id": "XJG-3NWyte3g"
      },
      "source": [
        "titanic['deck'] = titanic['deck'].fillna('C')\n",
        "titanic.isnull().sum()\n",
        "titanic.info()\n",
        "titanic.survived.value_counts()"
      ],
      "execution_count": null,
      "outputs": []
    },
    {
      "cell_type": "code",
      "metadata": {
        "id": "6gXJDfcVtjBQ"
      },
      "source": [
        "import matplotlib.pyplot as plt\n",
        "f,ax = plt.subplots(1, 2, figsize = (10, 5))\n",
        "titanic['survived'][titanic['sex'] == 'male'].value_counts().plot.pie(explode = [0,0.1], autopct = '%1.1f%%', ax = ax[0], shadow = True)"
      ],
      "execution_count": null,
      "outputs": []
    },
    {
      "cell_type": "code",
      "metadata": {
        "id": "oZwroTS_t8un"
      },
      "source": [
        "titanic['survived'][titanic['sex'] == 'female'].value_counts().plot.pie(explode = [0,0.1], autopct = '%1.1f%%', ax = ax[1], shadow = True)"
      ],
      "execution_count": null,
      "outputs": []
    },
    {
      "cell_type": "code",
      "metadata": {
        "id": "1OpiR_qvt9dP"
      },
      "source": [
        "ax[0].set_title('Survived (Male)')"
      ],
      "execution_count": null,
      "outputs": []
    },
    {
      "cell_type": "code",
      "metadata": {
        "id": "hQWWZrf3uAeP"
      },
      "source": [
        "ax[1].set_title('Survived (Female)')"
      ],
      "execution_count": null,
      "outputs": []
    },
    {
      "cell_type": "code",
      "metadata": {
        "id": "TQyzaFauuCNX"
      },
      "source": [
        "plt.show()"
      ],
      "execution_count": null,
      "outputs": []
    },
    {
      "cell_type": "code",
      "metadata": {
        "id": "HJW-k91uuiyP"
      },
      "source": [
        "sns.countplot('pclass', hue = 'survived', data = titanic)\n",
        "plt.title('Pclass vs Survived')\n",
        "plt.show()"
      ],
      "execution_count": null,
      "outputs": []
    },
    {
      "cell_type": "code",
      "metadata": {
        "id": "-LaYZgnPuvro"
      },
      "source": [
        "titanic_corr = titanic.corr(method = 'pearson')\n",
        "titanic_corr"
      ],
      "execution_count": null,
      "outputs": []
    },
    {
      "cell_type": "code",
      "metadata": {
        "id": "n2tJ92Omu2H_"
      },
      "source": [
        "titanic_corr.to_csv('titanic_corr.csv', index = False)"
      ],
      "execution_count": null,
      "outputs": []
    },
    {
      "cell_type": "code",
      "metadata": {
        "id": "HlGEXtJBu9Af"
      },
      "source": [
        "titanic['survived'].corr(titanic['adult_male'])"
      ],
      "execution_count": null,
      "outputs": []
    },
    {
      "cell_type": "code",
      "metadata": {
        "id": "bwU0Ho15vCFH"
      },
      "source": [
        "titanic['survived'].corr(titanic['fare'])"
      ],
      "execution_count": null,
      "outputs": []
    },
    {
      "cell_type": "code",
      "metadata": {
        "id": "IcjUTAUAvEgP"
      },
      "source": [
        "sns.pairplot(titanic, hue = 'survived')"
      ],
      "execution_count": null,
      "outputs": []
    },
    {
      "cell_type": "code",
      "metadata": {
        "id": "NeMQTZtMvUNH"
      },
      "source": [
        "sns.catplot(x = 'pclass', y = 'survived', hue = 'sex', data = titanic, kind = 'point'b)\n",
        "plt.show()"
      ],
      "execution_count": null,
      "outputs": []
    },
    {
      "cell_type": "code",
      "metadata": {
        "id": "2mtZUwEBvhym"
      },
      "source": [
        "def category_age(x):\n",
        "        if x < 10:\n",
        "           return 0\n",
        "        elif x < 20:\n",
        "           return 1\n",
        "        elif x < 30:\n",
        "           return 2\n",
        "        elif x < 40:\n",
        "           return 3\n",
        "        elif x < 50:\n",
        "            return 4\n",
        "        elif x < 60:\n",
        "           return 5\n",
        "        elif x < 70:\n",
        "           return 6\n",
        "        else:\n",
        "           return 7"
      ],
      "execution_count": null,
      "outputs": []
    },
    {
      "cell_type": "code",
      "metadata": {
        "id": "jKlpdnaOvjQe"
      },
      "source": [
        "titanic['age2'] = titanic['age'].apply(category_age)\n",
        "titanic['sex'] = titanic['sex'].map({'male':1, 'female':0})\n",
        "titanic['family'] = titanic['sibsp'] + titanic['parch'] + 1\n",
        "titanic.to_csv('titanic3.csv', index = False)\n",
        "heatmap_data = titanic[['survived', 'sex', 'age2', 'family', 'pclass','fare']]\n",
        "colormap = plt.cm.RdBu\n",
        "sns.heatmap(heatmap_data.astype(float).corr(), linewidths = 0.1, vmax= 1.0, square = True, cmap = colormap, linecolor = 'white', annot = True, annot_kws = {\"size\": 10})\n",
        "plt.show()"
      ],
      "execution_count": null,
      "outputs": []
    }
  ]
}