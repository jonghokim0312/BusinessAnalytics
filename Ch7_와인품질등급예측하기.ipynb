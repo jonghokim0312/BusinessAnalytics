{
  "nbformat": 4,
  "nbformat_minor": 0,
  "metadata": {
    "colab": {
      "name": "Ch7.와인품질등급예측하기.ipynb",
      "private_outputs": true,
      "provenance": [],
      "collapsed_sections": []
    },
    "kernelspec": {
      "name": "python3",
      "display_name": "Python 3"
    },
    "language_info": {
      "name": "python"
    }
  },
  "cells": [
    {
      "cell_type": "code",
      "metadata": {
        "id": "x0TX6oT7c9ns"
      },
      "source": [
        "# 와인 데이터셋 다운로드\t\thttps://archive.ics.uci.edu/ml/machine-learning-databases/wine-quality"
      ],
      "execution_count": null,
      "outputs": []
    },
    {
      "cell_type": "code",
      "metadata": {
        "id": "vt4cQam8du9-"
      },
      "source": [
        "import pandas as pd "
      ],
      "execution_count": null,
      "outputs": []
    },
    {
      "cell_type": "code",
      "metadata": {
        "id": "h92t20vidXKW"
      },
      "source": [
        "red_df = pd.read_csv('winequality-red.csv', sep = ';', header = 0, engine = 'python')\n",
        "white_df = pd.read_csv('winequality-white.csv', sep = ';', header = 0, engine= 'python')"
      ],
      "execution_count": null,
      "outputs": []
    },
    {
      "cell_type": "code",
      "metadata": {
        "id": "rKI1UDmueoaW"
      },
      "source": [
        "red_df.to_csv('winequality-red2.csv', index = False)\n",
        "white_df.to_csv('winequality-white2.csv', index = False)"
      ],
      "execution_count": null,
      "outputs": []
    },
    {
      "cell_type": "code",
      "metadata": {
        "id": "kuG0D4f6e-_e"
      },
      "source": [
        "red_df.head()"
      ],
      "execution_count": null,
      "outputs": []
    },
    {
      "cell_type": "code",
      "metadata": {
        "id": "KV4kmGPme_Zt"
      },
      "source": [
        "red_df.insert(0, column = 'type', value = 'red')"
      ],
      "execution_count": null,
      "outputs": []
    },
    {
      "cell_type": "code",
      "metadata": {
        "id": "sCxalDUte_mt"
      },
      "source": [
        "red_df.head()"
      ],
      "execution_count": null,
      "outputs": []
    },
    {
      "cell_type": "code",
      "metadata": {
        "id": "OJC63F9Be_zF"
      },
      "source": [
        "red_df.shape"
      ],
      "execution_count": null,
      "outputs": []
    },
    {
      "cell_type": "code",
      "metadata": {
        "id": "v1a8m640fbOu"
      },
      "source": [
        "white_df.head()"
      ],
      "execution_count": null,
      "outputs": []
    },
    {
      "cell_type": "code",
      "metadata": {
        "id": "4uw35a62fbXV"
      },
      "source": [
        "white_df.insert(0, column = 'type', value = 'white')"
      ],
      "execution_count": null,
      "outputs": []
    },
    {
      "cell_type": "code",
      "metadata": {
        "id": "8PYFED-lfbkd"
      },
      "source": [
        "white_df.head()"
      ],
      "execution_count": null,
      "outputs": []
    },
    {
      "cell_type": "code",
      "metadata": {
        "id": "0dnoF-2qfbst"
      },
      "source": [
        "white_df.shape"
      ],
      "execution_count": null,
      "outputs": []
    },
    {
      "cell_type": "code",
      "metadata": {
        "id": "AFTh9U94fb2d"
      },
      "source": [
        "wine=pd.concat([red_df, white_df])"
      ],
      "execution_count": null,
      "outputs": []
    },
    {
      "cell_type": "code",
      "metadata": {
        "id": "5RwQUrLgfcFY"
      },
      "source": [
        "wine.shape"
      ],
      "execution_count": null,
      "outputs": []
    },
    {
      "cell_type": "code",
      "metadata": {
        "id": "-6xkU2CagjYF"
      },
      "source": [
        "wine.to_csv('wine.csv', index=False)"
      ],
      "execution_count": null,
      "outputs": []
    },
    {
      "cell_type": "code",
      "metadata": {
        "id": "URngWNOeg4e1"
      },
      "source": [
        "print(wine.info())"
      ],
      "execution_count": null,
      "outputs": []
    },
    {
      "cell_type": "code",
      "metadata": {
        "id": "Ri1eB1U3hiNU"
      },
      "source": [
        "wine.columns=wine.columns.str.replace(' ', '_')"
      ],
      "execution_count": null,
      "outputs": []
    },
    {
      "cell_type": "code",
      "metadata": {
        "id": "bI41ItOShz3j"
      },
      "source": [
        "wine"
      ],
      "execution_count": null,
      "outputs": []
    },
    {
      "cell_type": "code",
      "metadata": {
        "id": "0Dis5r_Xh297"
      },
      "source": [
        "wine.groupby('type')['quality'].agg(['mean', 'std'])"
      ],
      "execution_count": null,
      "outputs": []
    },
    {
      "cell_type": "code",
      "metadata": {
        "id": "XvTvfhDrj9Bk"
      },
      "source": [
        "from scipy import stats\n",
        "from statsmodels.formula.api import ols, glm"
      ],
      "execution_count": null,
      "outputs": []
    },
    {
      "cell_type": "code",
      "metadata": {
        "id": "ZcSu7x0Gk0hD"
      },
      "source": [
        "red_wine_quality = wine.loc[wine['type'] == 'red', 'quality'] \n",
        "white_wine_quality = wine.loc[wine['type'] == 'white', 'quality'] "
      ],
      "execution_count": null,
      "outputs": []
    },
    {
      "cell_type": "code",
      "metadata": {
        "id": "H7xyTEa3k1Ka"
      },
      "source": [
        "stats.ttest_ind(red_wine_quality, white_wine_quality, equal_var = False) "
      ],
      "execution_count": null,
      "outputs": []
    },
    {
      "cell_type": "code",
      "metadata": {
        "id": "RyTld3KdluXC"
      },
      "source": [
        "Rformula = 'quality ~ fixed_acidity + volatile_acidity + citric_acid + residual_sugar + chlorides + free_sulfur_dioxide + total_sulfur_dioxide + density + pH + sulphates + alcohol' \n",
        "regressio+n_result = ols(Rformula, data = wine).fit() \n",
        "regression_result.summary()"
      ],
      "execution_count": null,
      "outputs": []
    },
    {
      "cell_type": "code",
      "metadata": {
        "id": "W31HZrRhnOTT"
      },
      "source": [
        "sample1 = wine[wine.columns.difference(['quality', 'type'])] \n",
        "sample1 = sample1[0:5][:] \n",
        "sample1_predict = regression_result.predict(sample1) \n",
        "sample1_predict"
      ],
      "execution_count": null,
      "outputs": []
    },
    {
      "cell_type": "code",
      "metadata": {
        "id": "DvmXaxHdnj6r"
      },
      "source": [
        "wine[0:5]['quality']"
      ],
      "execution_count": null,
      "outputs": []
    },
    {
      "cell_type": "code",
      "metadata": {
        "id": "Un49I9AzobJz"
      },
      "source": [
        "data = {\"fixed_acidity\" : [8.5, 8.1], \"volatile_acidity\":[0.8, 0.5], \"citric_acid\":[0.3, 0.4], \"residual_sugar\":[6.1, 5.8], \"chlorides\":[0.055, 0.04], \"free_sulfur_dioxide\":[30.0, 31.0], \"total_sulfur_dioxide\":[98.0, 99], \"density\":[0.996, 0.91], \"pH\":[3.25, 3.01], \"sulphates\":[0.4, 0.35], \"alcohol\":[9.0, 0.88]} \n",
        "sample2 = pd.DataFrame(data, columns= sample1.columns) \n",
        "sample2 "
      ],
      "execution_count": null,
      "outputs": []
    },
    {
      "cell_type": "code",
      "metadata": {
        "id": "sm5JzXchosmT"
      },
      "source": [
        "sample2_predict = regression_result.predict(sample2) \n",
        "sample2_predict"
      ],
      "execution_count": null,
      "outputs": []
    },
    {
      "cell_type": "code",
      "metadata": {
        "id": "537VSyHZpDFS"
      },
      "source": [
        "import matplotlib.pyplot as plt \n",
        "import seaborn as sns \n",
        "sns.set_style('dark') \n",
        "sns.distplot(red_wine_quality, kde = True, color = \"red\", label = 'red wine') \n",
        "sns.distplot(white_wine_quality, kde = True, label = 'white wine') \n",
        "plt.title(\"Quality of Wine Type\") b\n",
        "plt.legend()\n",
        "plt.show()"
      ],
      "execution_count": null,
      "outputs": []
    },
    {
      "cell_type": "code",
      "metadata": {
        "id": "PZGJqW7ipyAy"
      },
      "source": [
        "import statsmodels.api as sm    \n",
        "others = list(set(wine.columns).difference(set([\"quality\", \"fixed_acidity\"]))) \n",
        "p, resids = sm.graphics.plot_partregress(\"quality\", \"fixed_acidity\", others, data = wine, ret_coords = True)\n",
        "plt.show() "
      ],
      "execution_count": null,
      "outputs": []
    },
    {
      "cell_type": "code",
      "metadata": {
        "id": "4fjetySiqMJa"
      },
      "source": [
        "fig = plt.figure(figsize = (8, 13)) \n",
        "sm.graphics.plot_partregress_grid(regression_result, fig = fig) \n",
        "plt.show()"
      ],
      "execution_count": null,
      "outputs": []
    }
  ]
}